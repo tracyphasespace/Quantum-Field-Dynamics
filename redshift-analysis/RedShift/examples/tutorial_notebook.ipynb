{
 "cells": [
  {
   "cell_type": "markdown",
   "metadata": {},
   "source": [
    "# QFD CMB Module Tutorial\n",
    "\n",
    "This notebook provides an interactive tutorial for the QFD CMB Module, demonstrating how to compute CMB angular power spectra using photon-photon scattering models.\n",
    "\n",
    "## Table of Contents\n",
    "1. [Introduction](#introduction)\n",
    "2. [Basic Power Spectrum Calculation](#basic-power-spectrum)\n",
    "3. [CMB Angular Power Spectra](#cmb-spectra)\n",
    "4. [Parameter Exploration](#parameter-exploration)\n",
    "5. [Advanced Analysis](#advanced-analysis)"
   ]
  },
  {
   "cell_type": "markdown",
   "metadata": {},
   "source": [
    "## 1. Introduction {#introduction}\n",
    "\n",
    "The QFD CMB Module implements quantum field theory calculations for photon-photon scattering effects in the cosmic microwave background. This tutorial will guide you through the main features of the module."
   ]
  },
  {
   "cell_type": "code",
   "execution_count": null,
   "metadata": {},
   "outputs": [],
   "source": [
    "# Import necessary libraries\n",
    "import numpy as np\n",
    "import matplotlib.pyplot as plt\n",
    "from qfd_cmb import oscillatory_psik, gaussian_window_chi, project_limber\n",
    "from qfd_cmb.kernels import te_correlation_phase\n",
    "from qfd_cmb.figures import plot_TT, plot_EE, plot_TE\n",
    "\n",
    "# Set up plotting\n",
    "plt.style.use('default')\n",
    "plt.rcParams['figure.figsize'] = (10, 6)\n",
    "plt.rcParams['font.size'] = 12"
   ]
  },
  {
   "cell_type": "markdown",
   "metadata": {},
   "source": [
    "## 2. Basic Power Spectrum Calculation {#basic-power-spectrum}\n",
    "\n",
    "Let's start by computing the oscillatory power spectrum that forms the basis of the QFD model."
   ]
  },
  {
   "cell_type": "code",
   "execution_count": null,
   "metadata": {},
   "outputs": [],
   "source": [
    "# Define wavenumber range\n",
    "k = np.logspace(-4, 1, 200)  # 1/Mpc\n",
    "\n",
    "# Compute power spectrum with default parameters\n",
    "Pk_default = oscillatory_psik(k)\n",
    "\n",
    "# Plot the result\n",
    "plt.figure(figsize=(10, 6))\n",
    "plt.loglog(k, Pk_default, 'b-', linewidth=2, label='QFD Power Spectrum')\n",
    "plt.xlabel('k [1/Mpc]')\n",
    "plt.ylabel('P(k)')\n",
    "plt.title('Oscillatory Power Spectrum')\n",
    "plt.legend()\n",
    "plt.grid(True, alpha=0.3)\n",
    "plt.show()\n",
    "\n",
    "print(f\"Power spectrum range: {Pk_default.min():.2e} to {Pk_default.max():.2e}\")"
   ]
  },
  {
   "cell_type": "markdown",
   "metadata": {},
   "source": [
    "### Interactive Parameter Exploration\n",
    "\n",
    "Try changing the parameters below to see how they affect the power spectrum:"
   ]
  },
  {
   "cell_type": "code",
   "execution_count": null,
   "metadata": {},
   "outputs": [],
   "source": [
    "# Interactive parameter exploration\n",
    "# You can modify these values and re-run the cell\n",
    "\n",
    "rpsi = 147.0      # Oscillation scale (Mpc)\n",
    "Aosc = 0.55       # Oscillation amplitude\n",
    "sigma_osc = 0.025 # Oscillation damping\n",
    "ns = 0.96         # Spectral index\n",
    "\n",
    "# Compute power spectrum with custom parameters\n",
    "Pk_custom = oscillatory_psik(k, ns=ns, rpsi=rpsi, Aosc=Aosc, sigma_osc=sigma_osc)\n",
    "\n",
    "# Compare with default\n",
    "plt.figure(figsize=(12, 6))\n",
    "plt.loglog(k, Pk_default, 'b-', linewidth=2, label='Default Parameters')\n",
    "plt.loglog(k, Pk_custom, 'r--', linewidth=2, label=f'Custom (rpsi={rpsi}, Aosc={Aosc})')\n",
    "plt.xlabel('k [1/Mpc]')\n",
    "plt.ylabel('P(k)')\n",
    "plt.title('Power Spectrum Comparison')\n",
    "plt.legend()\n",
    "plt.grid(True, alpha=0.3)\n",
    "plt.show()"
   ]
  },
  {
   "cell_type": "markdown",
   "metadata": {},
   "source": [
    "## 3. CMB Angular Power Spectra {#cmb-spectra}\n",
    "\n",
    "Now let's compute the CMB angular power spectra using the Limber projection."
   ]
  },
  {
   "cell_type": "code",
   "execution_count": null,
   "metadata": {},
   "outputs": [],
   "source": [
    "# Physical parameters (Planck-anchored)\n",
    "lA = 301.0                    # Acoustic scale parameter\n",
    "rpsi = 147.0                  # Oscillation scale (Mpc)\n",
    "chi_star = lA * rpsi / np.pi  # Comoving distance to last scattering\n",
    "sigma_chi = 250.0             # Width of last scattering surface\n",
    "\n",
    "print(f\"Physical parameters:\")\n",
    "print(f\"  Acoustic scale lA: {lA}\")\n",
    "print(f\"  Oscillation scale rpsi: {rpsi} Mpc\")\n",
    "print(f\"  Distance to last scattering: {chi_star:.1f} Mpc\")\n",
    "print(f\"  Last scattering width: {sigma_chi} Mpc\")\n",
    "\n",
    "# Set up visibility window\n",
    "chi_grid = np.linspace(chi_star - 5*sigma_chi, chi_star + 5*sigma_chi, 300)\n",
    "W_chi = gaussian_window_chi(chi_grid, chi_star, sigma_chi)\n",
    "\n",
    "# Plot visibility window\n",
    "plt.figure(figsize=(10, 6))\n",
    "plt.plot(chi_grid, W_chi, 'g-', linewidth=2)\n",
    "plt.axvline(chi_star, color='r', linestyle='--', alpha=0.7, label='Last scattering')\n",
    "plt.xlabel('Comoving distance χ [Mpc]')\n",
    "plt.ylabel('Visibility W(χ)')\n",
    "plt.title('Last Scattering Visibility Window')\n",
    "plt.legend()\n",
    "plt.grid(True, alpha=0.3)\n",
    "plt.show()"
   ]
  },
  {
   "cell_type": "code",
   "execution_count": null,
   "metadata": {},
   "outputs": [],
   "source": [
    "# Compute CMB power spectra\n",
    "ells = np.arange(2, 1500)\n",
    "\n",
    "# Define power spectrum function\n",
    "def Pk_func(k):\n",
    "    return oscillatory_psik(k, ns=0.96, rpsi=rpsi, Aosc=0.55, sigma_osc=0.025)\n",
    "\n",
    "print(\"Computing TT spectrum...\")\n",
    "Ctt = project_limber(ells, Pk_func, W_chi, chi_grid)\n",
    "\n",
    "print(\"Computing EE spectrum...\")\n",
    "def Pk_EE(k):\n",
    "    return 0.25 * Pk_func(k)  # EE is typically ~25% of TT amplitude\n",
    "\n",
    "Cee = project_limber(ells, Pk_EE, W_chi, chi_grid)\n",
    "\n",
    "print(\"Computing TE spectrum...\")\n",
    "rho = np.array([\n",
    "    te_correlation_phase((ell + 0.5)/chi_star, rpsi, ell, chi_star) \n",
    "    for ell in ells\n",
    "])\n",
    "Cte = rho * np.sqrt(Ctt * Cee)\n",
    "\n",
    "print(\"Spectra computed successfully!\")"
   ]
  },
  {
   "cell_type": "code",
   "execution_count": null,
   "metadata": {},
   "outputs": [],
   "source": [
    "# Plot all three spectra\n",
    "fig, axes = plt.subplots(1, 3, figsize=(18, 5))\n",
    "\n",
    "# TT spectrum\n",
    "axes[0].loglog(ells, ells*(ells+1)*Ctt, 'r-', linewidth=2)\n",
    "axes[0].set_xlabel(r'$\\ell$')\n",
    "axes[0].set_ylabel(r'$\\ell(\\ell+1)C_\\ell^{TT}$')\n",
    "axes[0].set_title('TT Spectrum')\n",
    "axes[0].grid(True, alpha=0.3)\n",
    "\n",
    "# EE spectrum\n",
    "axes[1].loglog(ells, ells*(ells+1)*Cee, 'b-', linewidth=2)\n",
    "axes[1].set_xlabel(r'$\\ell$')\n",
    "axes[1].set_ylabel(r'$\\ell(\\ell+1)C_\\ell^{EE}$')\n",
    "axes[1].set_title('EE Spectrum')\n",
    "axes[1].grid(True, alpha=0.3)\n",
    "\n",
    "# TE spectrum\n",
    "sign = np.sign(Cte + 1e-30)\n",
    "axes[2].semilogx(ells, sign * ells*(ells+1)*np.abs(Cte), 'g-', linewidth=2)\n",
    "axes[2].axhline(0, color='k', linestyle='--', alpha=0.5)\n",
    "axes[2].set_xlabel(r'$\\ell$')\n",
    "axes[2].set_ylabel(r'sign×$\\ell(\\ell+1)|C_\\ell^{TE}|$')\n",
    "axes[2].set_title('TE Spectrum')\n",
    "axes[2].grid(True, alpha=0.3)\n",
    "\n",
    "plt.tight_layout()\n",
    "plt.show()\n",
    "\n",
    "# Print some statistics\n",
    "print(f\"TT spectrum peak: {(ells*(ells+1)*Ctt).max():.2e} at ell={ells[np.argmax(ells*(ells+1)*Ctt)]}\")\n",
    "print(f\"EE spectrum peak: {(ells*(ells+1)*Cee).max():.2e} at ell={ells[np.argmax(ells*(ells+1)*Cee)]}\")\n",
    "print(f\"TE correlation range: {rho.min():.3f} to {rho.max():.3f}\")"
   ]
  },
  {
   "cell_type": "markdown",
   "metadata": {},
   "source": [
    "## 4. Parameter Exploration {#parameter-exploration}\n",
    "\n",
    "Let's explore how different parameters affect the CMB spectra."
   ]
  },
  {
   "cell_type": "code",
   "execution_count": null,
   "metadata": {},
   "outputs": [],
   "source": [
    "# Parameter sensitivity study\n",
    "ells_short = np.arange(2, 800)  # Shorter range for faster computation\n",
    "\n",
    "# Study rpsi dependence\n",
    "rpsi_values = [140, 147, 154]\n",
    "colors = ['blue', 'red', 'green']\n",
    "\n",
    "plt.figure(figsize=(12, 8))\n",
    "\n",
    "for i, rpsi_val in enumerate(rpsi_values):\n",
    "    Pk_func = lambda k: oscillatory_psik(k, rpsi=rpsi_val, Aosc=0.55)\n",
    "    Ctt_temp = project_limber(ells_short, Pk_func, W_chi, chi_grid)\n",
    "    plt.loglog(ells_short, ells_short*(ells_short+1)*Ctt_temp, \n",
    "               color=colors[i], linewidth=2, label=f'rpsi = {rpsi_val} Mpc')\n",
    "\n",
    "plt.xlabel(r'$\\ell$')\n",
    "plt.ylabel(r'$\\ell(\\ell+1)C_\\ell^{TT}$')\n",
    "plt.title('Oscillation Scale Sensitivity')\n",
    "plt.legend()\n",
    "plt.grid(True, alpha=0.3)\n",
    "plt.show()"
   ]
  },
  {
   "cell_type": "code",
   "execution_count": null,
   "metadata": {},
   "outputs": [],
   "source": [
    "# Oscillation amplitude sensitivity\n",
    "Aosc_values = [0.0, 0.3, 0.55, 0.8]\n",
    "\n",
    "plt.figure(figsize=(12, 8))\n",
    "\n",
    "for Aosc_val in Aosc_values:\n",
    "    Pk_func = lambda k: oscillatory_psik(k, rpsi=147.0, Aosc=Aosc_val)\n",
    "    Ctt_temp = project_limber(ells_short, Pk_func, W_chi, chi_grid)\n",
    "    plt.loglog(ells_short, ells_short*(ells_short+1)*Ctt_temp, \n",
    "               linewidth=2, label=f'Aosc = {Aosc_val}')\n",
    "\n",
    "plt.xlabel(r'$\\ell$')\n",
    "plt.ylabel(r'$\\ell(\\ell+1)C_\\ell^{TT}$')\n",
    "plt.title('Oscillation Amplitude Sensitivity')\n",
    "plt.legend()\n",
    "plt.grid(True, alpha=0.3)\n",
    "plt.show()"
   ]
  },
  {
   "cell_type": "markdown",
   "metadata": {},
   "source": [
    "## 5. Advanced Analysis {#advanced-analysis}\n",
    "\n",
    "Finally, let's compare the QFD model with a standard model without oscillations."
   ]
  },
  {
   "cell_type": "code",
   "execution_count": null,
   "metadata": {},
   "outputs": [],
   "source": [
    "# Compare QFD model with standard model\n",
    "Pk_standard = lambda k: oscillatory_psik(k, Aosc=0.0)  # No oscillations\n",
    "Pk_qfd = lambda k: oscillatory_psik(k, rpsi=147.0, Aosc=0.55)\n",
    "\n",
    "Ctt_standard = project_limber(ells_short, Pk_standard, W_chi, chi_grid)\n",
    "Ctt_qfd = project_limber(ells_short, Pk_qfd, W_chi, chi_grid)\n",
    "\n",
    "# Plot comparison\n",
    "plt.figure(figsize=(14, 10))\n",
    "\n",
    "# Main comparison\n",
    "plt.subplot(2, 1, 1)\n",
    "plt.loglog(ells_short, ells_short*(ells_short+1)*Ctt_standard, 'k-', \n",
    "           linewidth=2, label='Standard Model (no oscillations)')\n",
    "plt.loglog(ells_short, ells_short*(ells_short+1)*Ctt_qfd, 'r-', \n",
    "           linewidth=2, label='QFD Model')\n",
    "plt.xlabel(r'$\\ell$')\n",
    "plt.ylabel(r'$\\ell(\\ell+1)C_\\ell^{TT}$')\n",
    "plt.title('QFD vs Standard Model Comparison')\n",
    "plt.legend()\n",
    "plt.grid(True, alpha=0.3)\n",
    "\n",
    "# Residual plot\n",
    "plt.subplot(2, 1, 2)\n",
    "residual = (Ctt_qfd - Ctt_standard) / Ctt_standard * 100\n",
    "plt.semilogx(ells_short, residual, 'g-', linewidth=2)\n",
    "plt.axhline(0, color='k', linestyle='--', alpha=0.5)\n",
    "plt.xlabel(r'$\\ell$')\n",
    "plt.ylabel('Relative Difference [%]')\n",
    "plt.title('QFD Model Residuals')\n",
    "plt.grid(True, alpha=0.3)\n",
    "\n",
    "plt.tight_layout()\n",
    "plt.show()\n",
    "\n",
    "print(f\"Maximum relative difference: {np.abs(residual).max():.2f}%\")\n",
    "print(f\"RMS relative difference: {np.sqrt(np.mean(residual**2)):.2f}%\")"
   ]
  },
  {
   "cell_type": "markdown",
   "metadata": {},
   "source": [
    "## Summary\n",
    "\n",
    "This tutorial has demonstrated:\n",
    "\n",
    "1. **Basic power spectrum calculation** using the `oscillatory_psik` function\n",
    "2. **CMB angular power spectra computation** using Limber projection\n",
    "3. **Parameter sensitivity analysis** showing how different parameters affect the results\n",
    "4. **Model comparison** between QFD and standard models\n",
    "\n",
    "The QFD CMB Module provides a comprehensive framework for studying photon-photon scattering effects in the cosmic microwave background. The oscillatory features in the power spectrum lead to distinctive signatures in the CMB angular power spectra that can be observationally tested.\n",
    "\n",
    "For more advanced usage, including parameter fitting and MCMC analysis, see the `advanced_fitting.py` example script."
   ]
  }
 ],
 "metadata": {
  "kernelspec": {
   "display_name": "Python 3",
   "language": "python",
   "name": "python3"
  },
  "language_info": {
   "codemirror_mode": {
    "name": "ipython",
    "version": 3
   },
   "file_extension": ".py",
   "mimetype": "text/x-python",
   "name": "python",
   "nbconvert_exporter": "python",
   "pygments_lexer": "ipython3",
   "version": "3.8.0"
  }
 },
 "nbformat": 4,
 "nbformat_minor": 4
}